{
  "metadata": {
    "language_info": {
      "codemirror_mode": {
        "name": "python",
        "version": 3
      },
      "file_extension": ".py",
      "mimetype": "text/x-python",
      "name": "python",
      "nbconvert_exporter": "python",
      "pygments_lexer": "ipython3",
      "version": "3.8"
    },
    "kernelspec": {
      "name": "python",
      "display_name": "Python (Pyodide)",
      "language": "python"
    }
  },
  "nbformat_minor": 4,
  "nbformat": 4,
  "cells": [
    {
      "cell_type": "markdown",
      "source": "Expressions and Variables",
      "metadata": {}
    },
    {
      "cell_type": "code",
      "source": "#In this scenario, two friends are eating dinner at a restaurant. The bill comes in the amount of 47.28 dollars. \n#The friends decide to split the bill evenly between them, after adding 15% tip for the service. \n#Calculate the tip, the total amount to pay, and each friend's share, then output a message saying \"Each person needs to pay: \" \n#followed by the resulting number.\n\nTip = (47.28*(15/100))\nTotal = (47.28)+(Tip)\nEach = (Total)/2\nprint(\"Each person needs to pay:\" + str(Each))",
      "metadata": {
        "trusted": true
      },
      "execution_count": 1,
      "outputs": [
        {
          "name": "stdout",
          "text": "Each person needs to pay:27.186\n",
          "output_type": "stream"
        }
      ]
    },
    {
      "cell_type": "code",
      "source": "#This code is supposed to take two numbers, divide one by another so that the result is equal to 1, and display the result on the screen. \n#Unfortunately, there is an error in the code. Find the error and fix it, so that the output is correct.\n\nnumerator = 10\ndenominator = 10\nresult = numerator / denominator\nprint(result)",
      "metadata": {
        "trusted": true
      },
      "execution_count": 2,
      "outputs": [
        {
          "name": "stdout",
          "text": "1.0\n",
          "output_type": "stream"
        }
      ]
    },
    {
      "cell_type": "code",
      "source": "#Combine the variables to display the sentence \"How do you like Python so far?\" \n\nword1 = \"How\"\nword2 = \"do\"\nword3 = \"you\"\nword4 = \"like\"\nword5 = \"Python\"\nword6 = \"so\"\nword7 = \"far?\"\nprint(word1, word2, word3, word4, word5, word6, word7)",
      "metadata": {
        "trusted": true
      },
      "execution_count": 3,
      "outputs": [
        {
          "name": "stdout",
          "text": "How do you like Python so far?\n",
          "output_type": "stream"
        }
      ]
    },
    {
      "cell_type": "code",
      "source": "#This code is supposed to display \"2 + 2 = 4\" on the screen, but there is an error. \n#Find the error in the code and fix it, so that the output is correct.\n\nprint(\"2 + 2 = \" + str(2+2))",
      "metadata": {
        "trusted": true
      },
      "execution_count": 4,
      "outputs": [
        {
          "name": "stdout",
          "text": "2 + 2 = 4\n",
          "output_type": "stream"
        }
      ]
    },
    {
      "cell_type": "markdown",
      "source": "...",
      "metadata": {}
    },
    {
      "cell_type": "markdown",
      "source": "Functions",
      "metadata": {}
    },
    {
      "cell_type": "code",
      "source": "#This function converts miles to kilometers (km). Complete the function to return the result of the conversion. \n#Call the function to convert the trip distance from miles to kilometers.  \n\ndef convert_distance(miles):\n    km = miles * 1.6  #approximately 1.6 km in 1 mile \n    return km\n\ntrip_miles = 55\n\n#Convert my_trip_miles to kilometers by calling the function above\ntrip_km = convert_distance(trip_miles)\n\n#Fill in the blank to print the result of the conversion\nprint(\"The distance in kilometers is \" + str(trip_km))\n\n#Calculate the round-trip in kilometers by doubling the result, and fill in the blank to print the result\nprint(\"The round-trip in kilometers is \" + str(trip_km * 2))",
      "metadata": {
        "trusted": true
      },
      "execution_count": 5,
      "outputs": [
        {
          "name": "stdout",
          "text": "The distance in kilometers is 88.0\nThe round-trip in kilometers is 176.0\n",
          "output_type": "stream"
        }
      ]
    },
    {
      "cell_type": "code",
      "source": "#Hint: if a function returns multiple values, don't forget to store these values in multiple variables\n\n#This function compares two numbers and returns them in increasing order.\ndef order_numbers(number1, number2):\n    if number2 > number1:\n        return number1, number2\n    else:\n        return number2, number1\n\n#Fill in the blanks so the print statement displays the result of the function call in order.\nsmaller, bigger = order_numbers(100, 99)\nprint(smaller, bigger)",
      "metadata": {
        "trusted": true
      },
      "execution_count": 6,
      "outputs": [
        {
          "name": "stdout",
          "text": "99 100\n",
          "output_type": "stream"
        }
      ]
    },
    {
      "cell_type": "code",
      "source": "#Let's revisit our lucky_number function. We want to change it, so that instead of printing the message, it returns the message. \n#This way, the calling line can print the message, or do something else with it if needed. Fill in the blanks to complete the code to make it work.\n\ndef lucky_number(name):\n    number = len(name) * 9\n    print (\"Hello \" + name + \". Your lucky number is \" + str(number))\n    \n(lucky_number(\"Kay\"))\n(lucky_number(\"Cameron\"))",
      "metadata": {
        "trusted": true
      },
      "execution_count": 7,
      "outputs": [
        {
          "name": "stdout",
          "text": "Hello Kay. Your lucky number is 27\nHello Cameron. Your lucky number is 63\n",
          "output_type": "stream"
        }
      ]
    },
    {
      "cell_type": "markdown",
      "source": "...",
      "metadata": {}
    },
    {
      "cell_type": "markdown",
      "source": "Conditionals",
      "metadata": {}
    },
    {
      "cell_type": "code",
      "source": "#What's the value of this Python expression: (2**2) == 4?\n\n(2**2) == 4",
      "metadata": {
        "trusted": true
      },
      "execution_count": 8,
      "outputs": [
        {
          "execution_count": 8,
          "output_type": "execute_result",
          "data": {
            "text/plain": "True"
          },
          "metadata": {}
        }
      ]
    },
    {
      "cell_type": "code",
      "source": "#Complete the script by filling in the missing parts. \n#The function receives a name, then returns a greeting based on whether or not that name is \"Taylor\".\n\ndef greeting(name):\n    if name == \"Taylor\":\n        return \"Welcome back Taylor!\"\n    else:\n        return \"Hello there, \" + name\n\nprint(greeting(\"Taylor\"))\nprint(greeting(\"John\"))",
      "metadata": {
        "trusted": true
      },
      "execution_count": 9,
      "outputs": [
        {
          "name": "stdout",
          "text": "Welcome back Taylor!\nHello there, John\n",
          "output_type": "stream"
        }
      ]
    },
    {
      "cell_type": "code",
      "source": "#What’s the output of this code if number equals 10?\n\nnumber = 10\nif number > 11: \n    print(0)\nelif number != 10:\n    print(1)\nelif number >= 20 or number < 12:\n    print(2)\nelse:\n    print(3)",
      "metadata": {
        "trusted": true
      },
      "execution_count": 10,
      "outputs": [
        {
          "name": "stdout",
          "text": "2\n",
          "output_type": "stream"
        }
      ]
    },
    {
      "cell_type": "code",
      "source": "#Is \"A dog\" smaller or larger than \"A mouse\"? Is 9999+8888 smaller or larger than 100*100? \n#Replace the plus sign in the following code to let Python check it for you and then answer. \n\nprint(\"A dog\" > \"A mouse\")\nprint(9999+8888 > 100*100)",
      "metadata": {
        "trusted": true
      },
      "execution_count": 11,
      "outputs": [
        {
          "name": "stdout",
          "text": "False\nTrue\n",
          "output_type": "stream"
        }
      ]
    },
    {
      "cell_type": "code",
      "source": "#If a filesystem has a block size of 4096 bytes, this means that a file comprised of only one byte will still use 4096 bytes of storage. \n#A file made up of 4097 bytes will use 4096*2=8192 bytes of storage. Knowing this, can you fill in the gaps in the calculate_storage function below,\n#which calculates the total number of bytes needed to store a file of a given size?\n\ndef calculate_storage(filesize):\n    block_size = 4096\n    \n    #Use floor division to calculate how many blocks are fully occupied\n    full_blocks = filesize//4096\n    \n    #Use the modulo operator to check whether there's any remainder\n    partial_block_remainder = filesize%4096\n    \n    #Depending on whether there's a remainder or not, return the total number of bytes required to allocate enough blocks to store your data.\n    if partial_block_remainder > 0:\n        return 4096*(full_blocks+1)\n    return full_blocks*4096\n\nprint(calculate_storage(1))    # Should be 4096\nprint(calculate_storage(4096)) # Should be 4096\nprint(calculate_storage(4097)) # Should be 8192\nprint(calculate_storage(6000)) # Should be 8192",
      "metadata": {
        "trusted": true
      },
      "execution_count": 12,
      "outputs": [
        {
          "name": "stdout",
          "text": "4096\n4096\n8192\n8192\n",
          "output_type": "stream"
        }
      ]
    },
    {
      "cell_type": "markdown",
      "source": "...",
      "metadata": {}
    },
    {
      "cell_type": "markdown",
      "source": "Quiz",
      "metadata": {}
    },
    {
      "cell_type": "code",
      "source": "#Complete the function by filling in the missing parts. The color_translator function receives the name of a color, then prints its hexadecimal value. \n#Currently, it only supports the three additive primary colors (red, green, blue), so it returns \"unknown\" for all other colors.\n\ndef color_translator(color):\n    if color == \"red\":\n        hex_color = \"#ff0000\"\n    elif color == \"green\":\n        hex_color = \"#00ff00\"\n    elif color == \"blue\":\n        hex_color = \"#0000ff\"\n    else:\n        hex_color = \"unknown\"\n    return hex_color\n\nprint(color_translator(\"blue\")) # Should be #0000ff\nprint(color_translator(\"yellow\")) # Should be unknown\nprint(color_translator(\"red\")) # Should be #ff0000\nprint(color_translator(\"black\")) # Should be unknown\nprint(color_translator(\"green\")) # Should be #00ff00\nprint(color_translator(\"\")) # Should be unknown",
      "metadata": {
        "trusted": true
      },
      "execution_count": 13,
      "outputs": [
        {
          "name": "stdout",
          "text": "#0000ff\nunknown\n#ff0000\nunknown\n#00ff00\nunknown\n",
          "output_type": "stream"
        }
      ]
    },
    {
      "cell_type": "code",
      "source": "#What's the value of this Python expression: \"big\" > \"small\"\n\nprint(\"big\" > \"small\")",
      "metadata": {
        "trusted": true
      },
      "execution_count": 14,
      "outputs": [
        {
          "name": "stdout",
          "text": "False\n",
          "output_type": "stream"
        }
      ]
    },
    {
      "cell_type": "code",
      "source": "#Students in a class receive their grades as Pass/Fail. Scores of 60 or more (out of 100) mean that the grade is \"Pass\". \n#For lower scores, the grade is \"Fail\". In addition, scores above 95 (not included) are graded as \"Top Score\". \n#Fill in this function so that it returns the proper grade.\n\ndef exam_grade(score):\n    if score > 95:\n        grade = \"Top Score\"\n    elif score >= 60:\n        grade = \"Pass\"\n    else:\n        grade = \"Fail\"\n    return grade\n\nprint(exam_grade(65)) # Should be Pass\nprint(exam_grade(55)) # Should be Fail\nprint(exam_grade(60)) # Should be Pass\nprint(exam_grade(95)) # Should be Pass\nprint(exam_grade(100)) # Should be Top Score\nprint(exam_grade(0)) # Should be Fail",
      "metadata": {
        "trusted": true
      },
      "execution_count": 15,
      "outputs": [
        {
          "name": "stdout",
          "text": "Pass\nFail\nPass\nPass\nTop Score\nFail\n",
          "output_type": "stream"
        }
      ]
    },
    {
      "cell_type": "code",
      "source": "#What's the value of this Python expression: 11 % 5?\n\n11 % 5",
      "metadata": {
        "trusted": true
      },
      "execution_count": 16,
      "outputs": [
        {
          "execution_count": 16,
          "output_type": "execute_result",
          "data": {
            "text/plain": "1"
          },
          "metadata": {}
        }
      ]
    },
    {
      "cell_type": "code",
      "source": "#Complete the body of the format_name function. This function receives the first_name and last_name parameters and then returns a properly \n#formatted string. Specifically: If both the last_name and the first_name parameters are supplied, the function should return like so:\n\ndef format_name(first_name, last_name):\n    #code goes here\n    string = 'Name: ' + ', '.join([name for name in [last_name, first_name] if name]) if any([last_name, first_name]) else ''\n    return string \n\nprint(format_name(\"Ernest\", \"Hemingway\"))\n#Should return the string \"Name: Hemingway, Ernest\"\n\nprint(format_name(\"\", \"Madonna\"))\n#Should return the string \"Name: Madonna\"\n\nprint(format_name(\"Voltaire\", \"\"))\n#Should return the string \"Name: Voltaire\"\n\nprint(format_name(\"\", \"\"))\n#Should return an empty string",
      "metadata": {
        "trusted": true
      },
      "execution_count": 17,
      "outputs": [
        {
          "name": "stdout",
          "text": "Name: Hemingway, Ernest\nName: Madonna\nName: Voltaire\n\n",
          "output_type": "stream"
        }
      ]
    },
    {
      "cell_type": "code",
      "source": "#The longest_word function is used to compare 3 words. It should return the word with the most number of characters \n#(and the first in the list when they have the same length). Fill in the blank to make this happen.\n\ndef longest_word(word1, word2, word3):\n    if len(word1) >= len(word2) and len(word1) >= len(word3):\n        word = word1\n    elif len(word2) >= len(word1) and len(word2) >= len(word3):\n        word = word2\n    else:\n        word = word3\n    return(word)\n\nprint(longest_word(\"chair\", \"couch\", \"table\"))\nprint(longest_word(\"bed\", \"bath\", \"beyond\"))\nprint(longest_word(\"laptop\", \"notebook\", \"desktop\"))",
      "metadata": {
        "trusted": true
      },
      "execution_count": 18,
      "outputs": [
        {
          "name": "stdout",
          "text": "chair\nbeyond\nnotebook\n",
          "output_type": "stream"
        }
      ]
    },
    {
      "cell_type": "code",
      "source": "#What’s the output of this code?\n\ndef sum(x, y):\n        return(x+y)\nprint(sum(sum(1,2), sum(3,4)))",
      "metadata": {
        "trusted": true
      },
      "execution_count": 19,
      "outputs": [
        {
          "name": "stdout",
          "text": "10\n",
          "output_type": "stream"
        }
      ]
    },
    {
      "cell_type": "code",
      "source": "#What's the value of this Python expression? ((10 >= 5*2) and (10 <= 5*2))\n\n((10 >= 5*2) and (10 <= 5*2))",
      "metadata": {
        "trusted": true
      },
      "execution_count": 20,
      "outputs": [
        {
          "execution_count": 20,
          "output_type": "execute_result",
          "data": {
            "text/plain": "True"
          },
          "metadata": {}
        }
      ]
    },
    {
      "cell_type": "code",
      "source": "#The fractional_part function divides the numerator by the denominator, and returns just the fractional part (a number between 0 and 1). \n#Complete the body of the function so that it returns the right number. \n#Note: Since division by 0 produces an error, if the denominator is 0, the function should return 0 instead of attempting the division.\n\ndef fractional_part(numerator, denominator):\n    #Operate with numerator and denominator to keep just the fractional part of the quotient\n    return (numerator / denominator) % 1 if denominator else 0\n\nprint(fractional_part(5, 5)) # Should be 0\nprint(fractional_part(5, 4)) # Should be 0.25\nprint(fractional_part(5, 3)) # Should be 0.66...\nprint(fractional_part(5, 2)) # Should be 0.5\nprint(fractional_part(5, 0)) # Should be 0\nprint(fractional_part(0, 5)) # Should be 0",
      "metadata": {
        "trusted": true
      },
      "execution_count": 21,
      "outputs": [
        {
          "name": "stdout",
          "text": "0.0\n0.25\n0.6666666666666667\n0.5\n0\n0.0\n",
          "output_type": "stream"
        }
      ]
    }
  ]
}