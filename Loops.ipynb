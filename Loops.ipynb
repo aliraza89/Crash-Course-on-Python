{
 "cells": [
  {
   "cell_type": "markdown",
   "metadata": {},
   "source": [
    "# While Loops"
   ]
  },
  {
   "cell_type": "code",
   "execution_count": 1,
   "metadata": {},
   "outputs": [
    {
     "name": "stdout",
     "output_type": "stream",
     "text": [
      "2\n",
      "2\n",
      "5\n",
      "5\n"
     ]
    },
    {
     "data": {
      "text/plain": [
       "'Done'"
      ]
     },
     "execution_count": 1,
     "metadata": {},
     "output_type": "execute_result"
    }
   ],
   "source": [
    "def print_prime_factors(number):\n",
    "    factor = 2\n",
    "    while factor <= number:\n",
    "        if number % factor == 0:\n",
    "            print(factor)\n",
    "            number = number / factor\n",
    "        else:\n",
    "            factor += 1\n",
    "    return \"Done\"\n",
    "\n",
    "print_prime_factors(100)"
   ]
  },
  {
   "cell_type": "code",
   "execution_count": 2,
   "metadata": {},
   "outputs": [
    {
     "name": "stdout",
     "output_type": "stream",
     "text": [
      "2\n",
      "2\n",
      "5\n",
      "5\n"
     ]
    },
    {
     "data": {
      "text/plain": [
       "'Done'"
      ]
     },
     "execution_count": 2,
     "metadata": {},
     "output_type": "execute_result"
    }
   ],
   "source": [
    "def print_prime_factors(number):  \n",
    "    \n",
    "    #Start with two, which is the first prime  \n",
    "    factor = 2  \n",
    "    \n",
    "    #Keep going until the factor is larger than the number  \n",
    "    while factor <= number:    \n",
    "    \n",
    "    #Check if factor is a divisor of number    \n",
    "        if number % factor == 0:      \n",
    "    \n",
    "    #If it is, print it and divide the original number      \n",
    "            print(factor)      \n",
    "            number = number / factor    \n",
    "        else:      \n",
    "    \n",
    "    #If it's not, increment the factor by one      \n",
    "            factor += 1   \n",
    "    \n",
    "    return \"Done\" \n",
    "    \n",
    "print_prime_factors(100) #Should print 2,2,5,5"
   ]
  },
  {
   "cell_type": "code",
   "execution_count": 3,
   "metadata": {},
   "outputs": [
    {
     "name": "stdout",
     "output_type": "stream",
     "text": [
      "False\n",
      "True\n",
      "True\n",
      "False\n"
     ]
    }
   ],
   "source": [
    "def is_power_of_two(n):  \n",
    "    \n",
    "    #Check if the number can be divided by two without a remainder  \n",
    "    while n % 2 == 0 and n != 0:    \n",
    "        n = n / 2  \n",
    "    \n",
    "    #If after dividing by two the number is 1, it's a power of two  \n",
    "    if n == 1:\n",
    "        return True  \n",
    "    n += 1  \n",
    "    return False   \n",
    "    \n",
    "print(is_power_of_two(0)) #Should be False\n",
    "print(is_power_of_two(1)) #Should be True\n",
    "print(is_power_of_two(8)) #Should be True\n",
    "print(is_power_of_two(9)) #Should be False"
   ]
  },
  {
   "cell_type": "code",
   "execution_count": 4,
   "metadata": {},
   "outputs": [
    {
     "name": "stdout",
     "output_type": "stream",
     "text": [
      "0\n",
      "1\n",
      "55\n",
      "114\n"
     ]
    }
   ],
   "source": [
    "def sum_divisors(n):  \n",
    "    i = 1  \n",
    "    sum = 0  \n",
    "    \n",
    "    #Return the sum of all divisors of n, not including n  \n",
    "    while i<n:    \n",
    "        if n % i == 0:      \n",
    "            sum += i      \n",
    "            i += 1    \n",
    "        else:        \n",
    "            i+=1  \n",
    "    return sum \n",
    "\n",
    "print(sum_divisors(0)) #0\n",
    "print(sum_divisors(3)) #Should sum of 1# 1\n",
    "print(sum_divisors(36)) #Should sum of 1+2+3+4+6+9+12+18# 55\n",
    "print(sum_divisors(102)) #Should be sum of 2+3+6+17+34+51# 114"
   ]
  },
  {
   "cell_type": "code",
   "execution_count": 5,
   "metadata": {},
   "outputs": [
    {
     "name": "stdout",
     "output_type": "stream",
     "text": [
      "3 x 1 = 3\n",
      "3 x 2 = 6\n",
      "3 x 3 = 9\n",
      "3 x 4 = 12\n",
      "3 x 5 = 15\n",
      "5 x 1 = 5\n",
      "5 x 2 = 10\n",
      "5 x 3 = 15\n",
      "5 x 4 = 20\n",
      "5 x 5 = 25\n",
      "8 x 1 = 8\n",
      "8 x 2 = 16\n",
      "8 x 3 = 24\n"
     ]
    }
   ],
   "source": [
    "def multiplication_table(number):    \n",
    "    \n",
    "    #Initialize the starting point of the multiplication table    \n",
    "    multiplier = 1    \n",
    "    \n",
    "    #Only want to loop through 5    \n",
    "    while multiplier <= 5:        \n",
    "        result = multiplier * number         \n",
    "    \n",
    "    #What is the additional condition to exit out of the loop?        \n",
    "        if result > 25:            \n",
    "            break        \n",
    "        print(str(number) + \" x \" + str(multiplier) + \" = \" + str(result))        \n",
    "    \n",
    "    #Increment the variable for the loop        \n",
    "        multiplier += 1 \n",
    "    \n",
    "multiplication_table(3) #Should print: 3x1=3 3x2=6 3x3=9 3x4=12 3x5=15 \n",
    "multiplication_table(5) #Should print: 5x1=5 5x2=10 5x3=15 5x4=20 5x5=25 \n",
    "multiplication_table(8) #Should print: 8x1=8 8x2=16 8x3=24"
   ]
  },
  {
   "cell_type": "markdown",
   "metadata": {},
   "source": [
    "# For Loops"
   ]
  },
  {
   "cell_type": "code",
   "execution_count": 6,
   "metadata": {},
   "outputs": [
    {
     "name": "stdout",
     "output_type": "stream",
     "text": [
      "0 1\n",
      "1 1\n",
      "2 2\n",
      "3 6\n",
      "4 24\n",
      "5 120\n",
      "6 720\n",
      "7 5040\n",
      "8 40320\n",
      "9 362880\n"
     ]
    }
   ],
   "source": [
    "def factorial(n):\n",
    "    result = 1\n",
    "    for x in range(2,n+1):\n",
    "        result = result * x\n",
    "    return result\n",
    "\n",
    "for n in range(10):\n",
    "    print(n, factorial(n))"
   ]
  },
  {
   "cell_type": "code",
   "execution_count": 7,
   "metadata": {},
   "outputs": [
    {
     "name": "stdout",
     "output_type": "stream",
     "text": [
      "1\n",
      "8\n",
      "27\n",
      "64\n",
      "125\n",
      "216\n",
      "343\n",
      "512\n",
      "729\n",
      "1000\n"
     ]
    }
   ],
   "source": [
    "for i in range(1, 11, 1):\n",
    "    cube = (i ** 3)\n",
    "    print(cube)"
   ]
  },
  {
   "cell_type": "code",
   "execution_count": 8,
   "metadata": {},
   "outputs": [
    {
     "name": "stdout",
     "output_type": "stream",
     "text": [
      "0\n",
      "7\n",
      "14\n",
      "21\n",
      "28\n",
      "35\n",
      "42\n",
      "49\n",
      "56\n",
      "63\n",
      "70\n",
      "77\n",
      "84\n",
      "91\n",
      "98\n"
     ]
    }
   ],
   "source": [
    "for i in range(0, 100):\n",
    "    if i % 7 == 0:\n",
    "        print(i)"
   ]
  },
  {
   "cell_type": "markdown",
   "metadata": {},
   "source": [
    "# Recursion"
   ]
  },
  {
   "cell_type": "code",
   "execution_count": 9,
   "metadata": {},
   "outputs": [
    {
     "name": "stdout",
     "output_type": "stream",
     "text": [
      "True\n",
      "True\n",
      "False\n"
     ]
    }
   ],
   "source": [
    "def is_power_of(number, base):\n",
    "  # Base case: when number is smaller than base.\n",
    "  if number < base:\n",
    "    # If number is equal to 1, it's a power (base**0).\n",
    "    return number == 1\n",
    "  result = number // base\n",
    "\n",
    "  # Recursive case: keep dividing number by base.\n",
    "  return is_power_of(result, base)\n",
    "\n",
    "print(is_power_of(8,2)) # Should be True\n",
    "print(is_power_of(64,4)) # Should be True\n",
    "print(is_power_of(70,10)) # Should be False"
   ]
  },
  {
   "cell_type": "code",
   "execution_count": 10,
   "metadata": {},
   "outputs": [
    {
     "name": "stdout",
     "output_type": "stream",
     "text": [
      "6\n",
      "15\n"
     ]
    }
   ],
   "source": [
    "def sum_positive_numbers(n):\n",
    "    if n <= 1:\n",
    "        return n \n",
    "    return n + sum_positive_numbers(n-1)\n",
    " \n",
    "print(sum_positive_numbers(3)) # Should be 6\n",
    "print(sum_positive_numbers(5)) # Should be 15"
   ]
  }
 ],
 "metadata": {
  "kernelspec": {
   "display_name": "Python 3 (ipykernel)",
   "language": "python",
   "name": "python3"
  },
  "language_info": {
   "codemirror_mode": {
    "name": "ipython",
    "version": 3
   },
   "file_extension": ".py",
   "mimetype": "text/x-python",
   "name": "python",
   "nbconvert_exporter": "python",
   "pygments_lexer": "ipython3",
   "version": "3.9.12"
  }
 },
 "nbformat": 4,
 "nbformat_minor": 4
}
