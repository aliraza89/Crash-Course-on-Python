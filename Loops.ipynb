{
  "metadata": {
    "language_info": {
      "codemirror_mode": {
        "name": "python",
        "version": 3
      },
      "file_extension": ".py",
      "mimetype": "text/x-python",
      "name": "python",
      "nbconvert_exporter": "python",
      "pygments_lexer": "ipython3",
      "version": "3.8"
    },
    "kernelspec": {
      "name": "python",
      "display_name": "Python (Pyodide)",
      "language": "python"
    }
  },
  "nbformat_minor": 4,
  "nbformat": 4,
  "cells": [
    {
      "cell_type": "markdown",
      "source": "# While Loops",
      "metadata": {}
    },
    {
      "cell_type": "code",
      "source": "def print_prime_factors(number):\n    factor = 2\n    while factor <= number:\n        if number % factor == 0:\n            print(factor)\n            number = number / factor\n        else:\n            factor += 1\n    return \"Done\"\n\nprint_prime_factors(100)",
      "metadata": {
        "trusted": true
      },
      "execution_count": 1,
      "outputs": [
        {
          "name": "stdout",
          "text": "2\n2\n5\n5\n",
          "output_type": "stream"
        },
        {
          "execution_count": 1,
          "output_type": "execute_result",
          "data": {
            "text/plain": "'Done'"
          },
          "metadata": {}
        }
      ]
    },
    {
      "cell_type": "code",
      "source": "def print_prime_factors(number):  \n    \n    #Start with two, which is the first prime  \n    factor = 2  \n    \n    #Keep going until the factor is larger than the number  \n    while factor <= number:    \n    \n    #Check if factor is a divisor of number    \n        if number % factor == 0:      \n    \n    #If it is, print it and divide the original number      \n            print(factor)      \n            number = number / factor    \n        else:      \n    \n    #If it's not, increment the factor by one      \n            factor += 1   \n    \n    return \"Done\" \n    \nprint_prime_factors(100) #Should print 2,2,5,5",
      "metadata": {
        "trusted": true
      },
      "execution_count": 2,
      "outputs": [
        {
          "name": "stdout",
          "text": "2\n2\n5\n5\n",
          "output_type": "stream"
        },
        {
          "execution_count": 2,
          "output_type": "execute_result",
          "data": {
            "text/plain": "'Done'"
          },
          "metadata": {}
        }
      ]
    },
    {
      "cell_type": "code",
      "source": "def is_power_of_two(n):  \n    \n    #Check if the number can be divided by two without a remainder  \n    while n % 2 == 0 and n != 0:    \n        n = n / 2  \n    \n    #If after dividing by two the number is 1, it's a power of two  \n    if n == 1:\n        return True  \n    n += 1  \n    return False   \n    \nprint(is_power_of_two(0)) #Should be False\nprint(is_power_of_two(1)) #Should be True\nprint(is_power_of_two(8)) #Should be True\nprint(is_power_of_two(9)) #Should be False",
      "metadata": {
        "trusted": true
      },
      "execution_count": 3,
      "outputs": [
        {
          "name": "stdout",
          "text": "False\nTrue\nTrue\nFalse\n",
          "output_type": "stream"
        }
      ]
    },
    {
      "cell_type": "code",
      "source": "def sum_divisors(n):  \n    i = 1  \n    sum = 0  \n    \n    #Return the sum of all divisors of n, not including n  \n    while i<n:    \n        if n % i == 0:      \n            sum += i      \n            i += 1    \n        else:        \n            i+=1  \n    return sum \n\nprint(sum_divisors(0)) #0\nprint(sum_divisors(3)) #Should sum of 1# 1\nprint(sum_divisors(36)) #Should sum of 1+2+3+4+6+9+12+18# 55\nprint(sum_divisors(102)) #Should be sum of 2+3+6+17+34+51# 114",
      "metadata": {
        "trusted": true
      },
      "execution_count": 4,
      "outputs": [
        {
          "name": "stdout",
          "text": "0\n1\n55\n114\n",
          "output_type": "stream"
        }
      ]
    },
    {
      "cell_type": "code",
      "source": "def multiplication_table(number):    \n    \n    #Initialize the starting point of the multiplication table    \n    multiplier = 1    \n    \n    #Only want to loop through 5    \n    while multiplier <= 5:        \n        result = multiplier * number         \n    \n    #What is the additional condition to exit out of the loop?        \n        if result > 25:            \n            break        \n        print(str(number) + \"x\" + str(multiplier) + \"=\" + str(result))        \n    \n    #Increment the variable for the loop        \n        multiplier += 1 \n    \nmultiplication_table(3) #Should print: 3x1=3 3x2=6 3x3=9 3x4=12 3x5=15 \nmultiplication_table(5) #Should print: 5x1=5 5x2=10 5x3=15 5x4=20 5x5=25 \nmultiplication_table(8) #Should print: 8x1=8 8x2=16 8x3=24",
      "metadata": {
        "trusted": true
      },
      "execution_count": 5,
      "outputs": [
        {
          "name": "stdout",
          "text": "3x1=3\n3x2=6\n3x3=9\n3x4=12\n3x5=15\n5x1=5\n5x2=10\n5x3=15\n5x4=20\n5x5=25\n8x1=8\n8x2=16\n8x3=24\n",
          "output_type": "stream"
        }
      ]
    }
  ]
}