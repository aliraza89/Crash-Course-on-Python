{
  "metadata": {
    "kernelspec": {
      "name": "python",
      "display_name": "Python (Pyodide)",
      "language": "python"
    },
    "language_info": {
      "codemirror_mode": {
        "name": "python",
        "version": 3
      },
      "file_extension": ".py",
      "mimetype": "text/x-python",
      "name": "python",
      "nbconvert_exporter": "python",
      "pygments_lexer": "ipython3",
      "version": "3.8"
    }
  },
  "nbformat_minor": 4,
  "nbformat": 4,
  "cells": [
    {
      "cell_type": "markdown",
      "source": "# Practice Notebook - Putting It All Together",
      "metadata": {}
    },
    {
      "cell_type": "markdown",
      "source": "Hello, coders! Below we have code similar to what we wrote in the last video.  Go ahead and run the following cell that defines our `get_event_date`, `current_users` and `generate_report` methods.",
      "metadata": {}
    },
    {
      "cell_type": "code",
      "source": "def get_event_date(event):\n  return event.date\n\ndef current_users(events):\n  events.sort(key=get_event_date)\n  machines = {}\n  for event in events:\n    if event.machine not in machines:\n      machines[event.machine] = set()\n    if event.type == \"login\":\n      machines[event.machine].add(event.user)\n    elif event.type == \"logout\" and event.user in machines[event.machine]:\n      machines[event.machine].remove(event.user)\n  return machines\n\ndef generate_report(machines):\n  for machine, users in machines.items():\n    if len(users) > 0:\n      user_list = \", \".join(users)\n      print(\"{}: {}\".format(machine, user_list))",
      "metadata": {
        "trusted": true
      },
      "execution_count": 1,
      "outputs": []
    },
    {
      "cell_type": "markdown",
      "source": "No output should be generated from running the custom function definitions above.  To check that our code is doing everything it's supposed to do, we need an `Event` class.  The code in the next cell below initializes our `Event` class.  Go ahead and run this cell next.",
      "metadata": {}
    },
    {
      "cell_type": "code",
      "source": "class Event:\n  def __init__(self, event_date, event_type, machine_name, user):\n    self.date = event_date\n    self.type = event_type\n    self.machine = machine_name\n    self.user = user",
      "metadata": {
        "trusted": true
      },
      "execution_count": 2,
      "outputs": []
    },
    {
      "cell_type": "markdown",
      "source": "Ok, we have an `Event` class that has a constructor and sets the necessary attributes.  Next let's create some events and add them to a list by running the following cell.",
      "metadata": {}
    },
    {
      "cell_type": "code",
      "source": "events = [\n    Event('2020-01-21 12:45:56', 'login', 'myworkstation.local', 'jordan'),\n    Event('2020-01-22 15:53:42', 'logout', 'webserver.local', 'jordan'),\n    Event('2020-01-21 18:53:21', 'login', 'webserver.local', 'lane'),\n    Event('2020-01-22 10:25:34', 'logout', 'myworkstation.local', 'jordan'),\n    Event('2020-01-21 08:20:01', 'login', 'webserver.local', 'jordan'),\n    Event('2020-01-23 11:24:35', 'logout', 'mailserver.local', 'chris'),\n]",
      "metadata": {
        "trusted": true
      },
      "execution_count": 3,
      "outputs": []
    },
    {
      "cell_type": "markdown",
      "source": "Now we've got a bunch of events.  Let's feed these events into our `custom_users` function and see what happens.",
      "metadata": {}
    },
    {
      "cell_type": "code",
      "source": "users = current_users(events)\nprint(users)",
      "metadata": {
        "trusted": true
      },
      "execution_count": 4,
      "outputs": [
        {
          "name": "stdout",
          "text": "{'webserver.local': {'lane'}, 'myworkstation.local': set(), 'mailserver.local': set()}\n",
          "output_type": "stream"
        }
      ]
    },
    {
      "cell_type": "markdown",
      "source": "Uh oh.  The code in the previous cell produces an error message.  This is because we have a user in our `events` list that was logged out of a machine he was not logged into. Do you see which user this is? Make edits to the first cell containing our custom function definitions to see if you can fix this error message. There may be more than one way to do so. \n<br><br>\nRemember when you have finished making your edits, rerun that cell as well as the cell that feeds the `events` list into our `custom_users` function to see whether the error message has been fixed. Once the error message has been cleared and you have correctly outputted a dictionary with machine names as keys, your custom functions are properly finished.  Great!",
      "metadata": {}
    },
    {
      "cell_type": "markdown",
      "source": "Now try generating the report by running the next cell.",
      "metadata": {}
    },
    {
      "cell_type": "code",
      "source": "generate_report(users)",
      "metadata": {
        "trusted": true
      },
      "execution_count": 5,
      "outputs": [
        {
          "name": "stdout",
          "text": "webserver.local: lane\n",
          "output_type": "stream"
        }
      ]
    },
    {
      "cell_type": "markdown",
      "source": "Whoop whoop! Success! The error message has been cleared and the desired output is produced. You are all done with this practice notebook. Way to go!",
      "metadata": {}
    }
  ]
}