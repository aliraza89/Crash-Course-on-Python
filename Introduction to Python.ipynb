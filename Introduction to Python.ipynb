{
  "metadata": {
    "language_info": {
      "codemirror_mode": {
        "name": "python",
        "version": 3
      },
      "file_extension": ".py",
      "mimetype": "text/x-python",
      "name": "python",
      "nbconvert_exporter": "python",
      "pygments_lexer": "ipython3",
      "version": "3.8"
    },
    "kernelspec": {
      "name": "python",
      "display_name": "Python (Pyodide)",
      "language": "python"
    }
  },
  "nbformat_minor": 4,
  "nbformat": 4,
  "cells": [
    {
      "cell_type": "code",
      "source": "#Fill in the correct Python command to put “My first Python program” onto the screen.\n\nprint(\"My first Python program\")",
      "metadata": {
        "trusted": true
      },
      "execution_count": 1,
      "outputs": [
        {
          "name": "stdout",
          "text": "My first Python program\n",
          "output_type": "stream"
        }
      ]
    },
    {
      "cell_type": "code",
      "source": "#Convert this Bash command into Python: echo Have a nice day\n\nprint(\"Have a nice day\")",
      "metadata": {
        "trusted": true
      },
      "execution_count": 2,
      "outputs": [
        {
          "name": "stdout",
          "text": "Have a nice day\n",
          "output_type": "stream"
        }
      ]
    },
    {
      "cell_type": "code",
      "source": "#Fill in the correct Python commands to put “This is fun!” onto the screen 5 times. \n\nfor i in range(5):\n    print(\"This is fun!\")",
      "metadata": {
        "trusted": true
      },
      "execution_count": 3,
      "outputs": [
        {
          "name": "stdout",
          "text": "This is fun!\nThis is fun!\nThis is fun!\nThis is fun!\nThis is fun!\n",
          "output_type": "stream"
        }
      ]
    },
    {
      "cell_type": "code",
      "source": "#Select the Python code snippet that corresponds to the following Javascript snippet:\n\nfor i in range(10):\n    print(i)",
      "metadata": {
        "trusted": true
      },
      "execution_count": 4,
      "outputs": [
        {
          "name": "stdout",
          "text": "0\n1\n2\n3\n4\n5\n6\n7\n8\n9\n",
          "output_type": "stream"
        }
      ]
    },
    {
      "cell_type": "code",
      "source": "#Output a message that says \"Programming in Python is fun!\" to the screen.\n\nprint(\"Programming in Python is fun!\")",
      "metadata": {
        "trusted": true
      },
      "execution_count": 5,
      "outputs": [
        {
          "name": "stdout",
          "text": "Programming in Python is fun!\n",
          "output_type": "stream"
        }
      ]
    },
    {
      "cell_type": "code",
      "source": "#Replace the ___ placeholder and calculate the Golden ratio: 1 + √ 5 / 2. \n#Tip: to calculate the square root of a number xx, you can use x**(1/2).\n\nratio = (1+5**(1/2))/2\nprint (ratio)",
      "metadata": {
        "trusted": true
      },
      "execution_count": 6,
      "outputs": [
        {
          "name": "stdout",
          "text": "1.618033988749895\n",
          "output_type": "stream"
        }
      ]
    },
    {
      "cell_type": "code",
      "source": "#Write a Python script that outputs \"Automating with Python is fun!\" to the screen.\n\nprint(\"Automating with Python is fun!\")",
      "metadata": {
        "trusted": true
      },
      "execution_count": 7,
      "outputs": [
        {
          "name": "stdout",
          "text": "Automating with Python is fun!\n",
          "output_type": "stream"
        }
      ]
    },
    {
      "cell_type": "code",
      "source": "#Fill in the blanks so that the code prints \"Yellow is the color of sunshine\".\n\ncolor = \"Yellow\"\nthing = \"sunshine\"\nprint(color + \" is the color of \" + thing)",
      "metadata": {
        "trusted": true
      },
      "execution_count": 8,
      "outputs": [
        {
          "name": "stdout",
          "text": "Yellow is the color of sunshine\n",
          "output_type": "stream"
        }
      ]
    },
    {
      "cell_type": "code",
      "source": "#Keeping in mind there are 86400 seconds per day, write a program that calculates how many seconds there are in a week, if a week is 7 days. \n#Print the result on the screen.\n\nprint(86400*7)",
      "metadata": {
        "trusted": true
      },
      "execution_count": 9,
      "outputs": [
        {
          "name": "stdout",
          "text": "604800\n",
          "output_type": "stream"
        }
      ]
    },
    {
      "cell_type": "code",
      "source": "#Use Python to calculate how many different passwords can be formed with 6 lower case English letters. \n#For a 1 letter password, there would be 26 possibilities.  \n#For a 2 letter password, each letter is independent of the other, so there would be 26 times 26 possibilities.  \n#Using this information, print the amount of possible passwords that can be formed with 6 letters.\n\np = 26\ntotal = p**6\nprint(total)",
      "metadata": {
        "trusted": true
      },
      "execution_count": 10,
      "outputs": [
        {
          "name": "stdout",
          "text": "308915776\n",
          "output_type": "stream"
        }
      ]
    },
    {
      "cell_type": "code",
      "source": "#Most hard drives are divided into sectors of 512 bytes each. \n#Our disk has a size of 16 GB. \n#Fill in the blank to calculate how many sectors the disk has. \n#Note: Your result should be in the format of just a number, not a sentence.\n\ndisk_size = 16*1024*1024*1024\nsector_size = 512\nsector_amount = (16*1024*1024*1024)/512\nprint(sector_amount)",
      "metadata": {
        "trusted": true
      },
      "execution_count": 11,
      "outputs": [
        {
          "name": "stdout",
          "text": "33554432.0\n",
          "output_type": "stream"
        }
      ]
    }
  ]
}