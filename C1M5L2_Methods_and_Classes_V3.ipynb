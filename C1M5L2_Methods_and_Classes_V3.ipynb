{
  "metadata": {
    "kernelspec": {
      "name": "python",
      "display_name": "Python (Pyodide)",
      "language": "python"
    },
    "language_info": {
      "codemirror_mode": {
        "name": "python",
        "version": 3
      },
      "file_extension": ".py",
      "mimetype": "text/x-python",
      "name": "python",
      "nbconvert_exporter": "python",
      "pygments_lexer": "ipython3",
      "version": "3.8"
    },
    "widgets": {
      "application/vnd.jupyter.widget-state+json": {
        "state": {},
        "version_major": 2,
        "version_minor": 0
      }
    }
  },
  "nbformat_minor": 4,
  "nbformat": 4,
  "cells": [
    {
      "cell_type": "markdown",
      "source": "# Practice Notebook: Methods and Classes",
      "metadata": {}
    },
    {
      "cell_type": "markdown",
      "source": "The code below defines an *Elevator* class. The elevator has a current floor, it also has a top and a bottom floor that are the minimum and maximum floors it can go to. Fill in the blanks to make the elevator go through the floors requested.",
      "metadata": {}
    },
    {
      "cell_type": "code",
      "source": "class Elevator:\n    def __init__(self, bottom, top, current):\n        \"\"\"Initializes the Elevator instance.\"\"\"\n        self.bottom = bottom\n        self.top = top\n        self.current = current\n    def __str__(self):\n        \"\"\"Information about Current floor\"\"\"\n        return \"Current floor: {}\".format(self.current)    \n    \n    def up(self):\n        \"\"\"Makes the elevator go up one floor.\"\"\"\n        if self.current < 10:\n            self.current += 1\n    def down(self):\n        \"\"\"Makes the elevator go down one floor.\"\"\"\n        if self.current > 0:\n            self.current -= 1\n    def go_to(self, floor):\n        \"\"\"Makes the elevator go to the specific floor.\"\"\"\n        if floor >= self.bottom and floor <= self.top:\n            self.current = floor\n        elif floor < 0:\n            self.current = 0\n        else:\n            self.current = 10\n\nelevator = Elevator(-1, 10, 0)",
      "metadata": {
        "trusted": true
      },
      "execution_count": 1,
      "outputs": []
    },
    {
      "cell_type": "markdown",
      "source": "This class is pretty empty and doesn't do much.  To test whether your *Elevator* class is working correctly, run the code blocks below.",
      "metadata": {}
    },
    {
      "cell_type": "code",
      "source": "elevator.up() \nelevator.current #should output 1",
      "metadata": {
        "trusted": true
      },
      "execution_count": 2,
      "outputs": [
        {
          "execution_count": 2,
          "output_type": "execute_result",
          "data": {
            "text/plain": "1"
          },
          "metadata": {}
        }
      ]
    },
    {
      "cell_type": "code",
      "source": "elevator.down() \nelevator.current #should output 0",
      "metadata": {
        "trusted": true
      },
      "execution_count": 3,
      "outputs": [
        {
          "execution_count": 3,
          "output_type": "execute_result",
          "data": {
            "text/plain": "0"
          },
          "metadata": {}
        }
      ]
    },
    {
      "cell_type": "code",
      "source": "elevator.go_to(10) \nelevator.current #should output 10",
      "metadata": {
        "trusted": true
      },
      "execution_count": 4,
      "outputs": [
        {
          "execution_count": 4,
          "output_type": "execute_result",
          "data": {
            "text/plain": "10"
          },
          "metadata": {}
        }
      ]
    },
    {
      "cell_type": "markdown",
      "source": "If you get a **<font color =red>NameError</font>** message, be sure to run the *Elevator* class definition code block first. If you get an **<font color =red>AttributeError</font>** message, be sure to initialize *self.current* in your *Elevator* class.",
      "metadata": {}
    },
    {
      "cell_type": "markdown",
      "source": "Once you've made the above methods output 1, 0 and 10, you've successfully coded the *Elevator* class and its methods. Great work!\n<br><br>\nFor the up and down methods, did you take into account the top and bottom floors? Keep in mind that the elevator shouldn't go above the top floor or below the bottom floor. To check that out, try the code below and verify if it's working as expected. If it's not, then go back and modify the methods so that this code behaves correctly.",
      "metadata": {}
    },
    {
      "cell_type": "code",
      "source": "# Go to the top floor. Try to go up, it should stay. Then go down.\nelevator.go_to(10)\nelevator.up()\nelevator.down()\nprint(elevator.current) # should be 9\n# Go to the bottom floor. Try to go down, it should stay. Then go up.\nelevator.go_to(-1)\nelevator.down()\nelevator.down()\nelevator.up()\nelevator.up()\nprint(elevator.current) # should be 1",
      "metadata": {
        "trusted": true
      },
      "execution_count": 5,
      "outputs": [
        {
          "name": "stdout",
          "text": "9\n1\n",
          "output_type": "stream"
        }
      ]
    },
    {
      "cell_type": "markdown",
      "source": "Now add the __str__ method to your *Elevator* class definition above so that when printing the elevator using the **print( )** method, we get the current floor together with a message. For example, in the 5th floor it should say \"Current floor: 5\"",
      "metadata": {}
    },
    {
      "cell_type": "code",
      "source": "elevator.go_to(5)\nprint(elevator)",
      "metadata": {
        "trusted": true
      },
      "execution_count": 6,
      "outputs": [
        {
          "name": "stdout",
          "text": "Current floor: 5\n",
          "output_type": "stream"
        }
      ]
    },
    {
      "cell_type": "markdown",
      "source": "Remember, Python uses the default method, that prints the position where the object is stored in the computer’s memory.  If your output is something like: <br>\n> <__main__.Elevator object at 0x7ff6a9ff3fd0>\n\nThen you will need to add the special __str__ method, which returns the string that you want to print.  Try again until you get the desired output, \"Current floor: 5\".",
      "metadata": {}
    },
    {
      "cell_type": "markdown",
      "source": "Once you have successfully produced the desired output, you are all done with this practice notebook. Awesome!",
      "metadata": {}
    }
  ]
}